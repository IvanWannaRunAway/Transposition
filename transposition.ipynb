{
 "cells": [
  {
   "cell_type": "code",
   "execution_count": null,
   "id": "161ce96b-bb6b-4fc5-a0bb-68b41e9df5f9",
   "metadata": {},
   "outputs": [],
   "source": [
    "import pandas as pd\n",
    "\n",
    "df = pd.read_csv(r'D:\\data.csv', index_col=0)  # 读取需要转置的文件\n",
    "df = df.T  # 转置\n",
    "df.to_csv(r'D:\\data_T.csv')  # 另存为xlsx文件"
   ]
  }
 ],
 "metadata": {
  "kernelspec": {
   "display_name": "Python 3 (ipykernel)",
   "language": "python",
   "name": "python3"
  },
  "language_info": {
   "codemirror_mode": {
    "name": "ipython",
    "version": 3
   },
   "file_extension": ".py",
   "mimetype": "text/x-python",
   "name": "python",
   "nbconvert_exporter": "python",
   "pygments_lexer": "ipython3",
   "version": "3.9.13"
  }
 },
 "nbformat": 4,
 "nbformat_minor": 5
}
